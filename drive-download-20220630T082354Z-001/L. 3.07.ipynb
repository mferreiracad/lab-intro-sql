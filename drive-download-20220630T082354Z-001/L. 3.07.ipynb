{
 "cells": [
  {
   "cell_type": "code",
   "execution_count": 26,
   "metadata": {
    "id": "r97zMfY1myrW"
   },
   "outputs": [
    {
     "name": "stdout",
     "output_type": "stream",
     "text": [
      "········\n"
     ]
    }
   ],
   "source": [
    "# prep: import modules and get pwd\n",
    "import pymysql\n",
    "from sqlalchemy import create_engine\n",
    "import pandas as pd\n",
    "import numpy as np\n",
    "import getpass  # To get the password without showing the input\n",
    "password = getpass.getpass()"
   ]
  },
  {
   "cell_type": "code",
   "execution_count": 2,
   "metadata": {
    "id": "zvASXwGtmyrd"
   },
   "outputs": [
    {
     "data": {
      "text/html": [
       "<div>\n",
       "<style scoped>\n",
       "    .dataframe tbody tr th:only-of-type {\n",
       "        vertical-align: middle;\n",
       "    }\n",
       "\n",
       "    .dataframe tbody tr th {\n",
       "        vertical-align: top;\n",
       "    }\n",
       "\n",
       "    .dataframe thead th {\n",
       "        text-align: right;\n",
       "    }\n",
       "</style>\n",
       "<table border=\"1\" class=\"dataframe\">\n",
       "  <thead>\n",
       "    <tr style=\"text-align: right;\">\n",
       "      <th></th>\n",
       "      <th>type</th>\n",
       "      <th>operation</th>\n",
       "      <th>t_amount</th>\n",
       "      <th>balance</th>\n",
       "      <th>k_symbol</th>\n",
       "      <th>l_amount</th>\n",
       "      <th>duration</th>\n",
       "      <th>payments</th>\n",
       "      <th>status</th>\n",
       "    </tr>\n",
       "  </thead>\n",
       "  <tbody>\n",
       "    <tr>\n",
       "      <th>0</th>\n",
       "      <td>PRIJEM</td>\n",
       "      <td>VKLAD</td>\n",
       "      <td>700.0</td>\n",
       "      <td>700.0</td>\n",
       "      <td></td>\n",
       "      <td>NaN</td>\n",
       "      <td>NaN</td>\n",
       "      <td>NaN</td>\n",
       "      <td>None</td>\n",
       "    </tr>\n",
       "    <tr>\n",
       "      <th>1</th>\n",
       "      <td>PRIJEM</td>\n",
       "      <td>VKLAD</td>\n",
       "      <td>900.0</td>\n",
       "      <td>900.0</td>\n",
       "      <td></td>\n",
       "      <td>NaN</td>\n",
       "      <td>NaN</td>\n",
       "      <td>NaN</td>\n",
       "      <td>None</td>\n",
       "    </tr>\n",
       "    <tr>\n",
       "      <th>2</th>\n",
       "      <td>PRIJEM</td>\n",
       "      <td>VKLAD</td>\n",
       "      <td>1000.0</td>\n",
       "      <td>1000.0</td>\n",
       "      <td></td>\n",
       "      <td>NaN</td>\n",
       "      <td>NaN</td>\n",
       "      <td>NaN</td>\n",
       "      <td>None</td>\n",
       "    </tr>\n",
       "    <tr>\n",
       "      <th>3</th>\n",
       "      <td>PRIJEM</td>\n",
       "      <td>VKLAD</td>\n",
       "      <td>600.0</td>\n",
       "      <td>600.0</td>\n",
       "      <td></td>\n",
       "      <td>NaN</td>\n",
       "      <td>NaN</td>\n",
       "      <td>NaN</td>\n",
       "      <td>None</td>\n",
       "    </tr>\n",
       "    <tr>\n",
       "      <th>4</th>\n",
       "      <td>PRIJEM</td>\n",
       "      <td>VKLAD</td>\n",
       "      <td>400.0</td>\n",
       "      <td>400.0</td>\n",
       "      <td></td>\n",
       "      <td>NaN</td>\n",
       "      <td>NaN</td>\n",
       "      <td>NaN</td>\n",
       "      <td>None</td>\n",
       "    </tr>\n",
       "  </tbody>\n",
       "</table>\n",
       "</div>"
      ],
      "text/plain": [
       "     type operation  t_amount  balance k_symbol  l_amount  duration  payments  \\\n",
       "0  PRIJEM     VKLAD     700.0    700.0                NaN       NaN       NaN   \n",
       "1  PRIJEM     VKLAD     900.0    900.0                NaN       NaN       NaN   \n",
       "2  PRIJEM     VKLAD    1000.0   1000.0                NaN       NaN       NaN   \n",
       "3  PRIJEM     VKLAD     600.0    600.0                NaN       NaN       NaN   \n",
       "4  PRIJEM     VKLAD     400.0    400.0                NaN       NaN       NaN   \n",
       "\n",
       "  status  \n",
       "0   None  \n",
       "1   None  \n",
       "2   None  \n",
       "3   None  \n",
       "4   None  "
      ]
     },
     "execution_count": 2,
     "metadata": {},
     "output_type": "execute_result"
    }
   ],
   "source": [
    "# get the data\n",
    "connection_string = 'mysql+pymysql://root:' + password + '@localhost/bank'\n",
    "engine = create_engine(connection_string)\n",
    "query = '''select t.type, t.operation, t.amount as t_amount, t.balance, t.k_symbol, l.amount as l_amount, l.duration, l.payments, l.status\n",
    "from trans t\n",
    "left join loan l\n",
    "on t.account_id = l.account_id;'''\n",
    "\n",
    "data = pd.read_sql_query(query, engine)\n",
    "data.head()"
   ]
  },
  {
   "cell_type": "code",
   "execution_count": null,
   "metadata": {
    "id": "0pBKmkFbmyre"
   },
   "outputs": [],
   "source": [
    "data.shape"
   ]
  },
  {
   "cell_type": "code",
   "execution_count": 10,
   "metadata": {
    "id": "FgLik82qmyrf"
   },
   "outputs": [
    {
     "data": {
      "text/html": [
       "<div>\n",
       "<style scoped>\n",
       "    .dataframe tbody tr th:only-of-type {\n",
       "        vertical-align: middle;\n",
       "    }\n",
       "\n",
       "    .dataframe tbody tr th {\n",
       "        vertical-align: top;\n",
       "    }\n",
       "\n",
       "    .dataframe thead th {\n",
       "        text-align: right;\n",
       "    }\n",
       "</style>\n",
       "<table border=\"1\" class=\"dataframe\">\n",
       "  <thead>\n",
       "    <tr style=\"text-align: right;\">\n",
       "      <th></th>\n",
       "      <th>A1</th>\n",
       "      <th>A2</th>\n",
       "      <th>A3</th>\n",
       "      <th>A4</th>\n",
       "      <th>A5</th>\n",
       "      <th>A6</th>\n",
       "      <th>A7</th>\n",
       "      <th>A8</th>\n",
       "      <th>A9</th>\n",
       "      <th>A10</th>\n",
       "      <th>A11</th>\n",
       "      <th>A12</th>\n",
       "      <th>A13</th>\n",
       "      <th>A14</th>\n",
       "      <th>A15</th>\n",
       "      <th>A16</th>\n",
       "    </tr>\n",
       "  </thead>\n",
       "  <tbody>\n",
       "    <tr>\n",
       "      <th>0</th>\n",
       "      <td>1</td>\n",
       "      <td>Hl.m. Praha</td>\n",
       "      <td>Prague</td>\n",
       "      <td>1204953</td>\n",
       "      <td>0</td>\n",
       "      <td>0</td>\n",
       "      <td>0</td>\n",
       "      <td>1</td>\n",
       "      <td>1</td>\n",
       "      <td>100.0</td>\n",
       "      <td>12541</td>\n",
       "      <td>0.29</td>\n",
       "      <td>0.43</td>\n",
       "      <td>167</td>\n",
       "      <td>85677</td>\n",
       "      <td>99107</td>\n",
       "    </tr>\n",
       "    <tr>\n",
       "      <th>1</th>\n",
       "      <td>2</td>\n",
       "      <td>Benesov</td>\n",
       "      <td>central Bohemia</td>\n",
       "      <td>88884</td>\n",
       "      <td>80</td>\n",
       "      <td>26</td>\n",
       "      <td>6</td>\n",
       "      <td>2</td>\n",
       "      <td>5</td>\n",
       "      <td>46.7</td>\n",
       "      <td>8507</td>\n",
       "      <td>1.67</td>\n",
       "      <td>1.85</td>\n",
       "      <td>132</td>\n",
       "      <td>2159</td>\n",
       "      <td>2674</td>\n",
       "    </tr>\n",
       "    <tr>\n",
       "      <th>2</th>\n",
       "      <td>3</td>\n",
       "      <td>Beroun</td>\n",
       "      <td>central Bohemia</td>\n",
       "      <td>75232</td>\n",
       "      <td>55</td>\n",
       "      <td>26</td>\n",
       "      <td>4</td>\n",
       "      <td>1</td>\n",
       "      <td>5</td>\n",
       "      <td>41.7</td>\n",
       "      <td>8980</td>\n",
       "      <td>1.95</td>\n",
       "      <td>2.21</td>\n",
       "      <td>111</td>\n",
       "      <td>2824</td>\n",
       "      <td>2813</td>\n",
       "    </tr>\n",
       "    <tr>\n",
       "      <th>3</th>\n",
       "      <td>4</td>\n",
       "      <td>Kladno</td>\n",
       "      <td>central Bohemia</td>\n",
       "      <td>149893</td>\n",
       "      <td>63</td>\n",
       "      <td>29</td>\n",
       "      <td>6</td>\n",
       "      <td>2</td>\n",
       "      <td>6</td>\n",
       "      <td>67.4</td>\n",
       "      <td>9753</td>\n",
       "      <td>4.64</td>\n",
       "      <td>5.05</td>\n",
       "      <td>109</td>\n",
       "      <td>5244</td>\n",
       "      <td>5892</td>\n",
       "    </tr>\n",
       "    <tr>\n",
       "      <th>4</th>\n",
       "      <td>5</td>\n",
       "      <td>Kolin</td>\n",
       "      <td>central Bohemia</td>\n",
       "      <td>95616</td>\n",
       "      <td>65</td>\n",
       "      <td>30</td>\n",
       "      <td>4</td>\n",
       "      <td>1</td>\n",
       "      <td>6</td>\n",
       "      <td>51.4</td>\n",
       "      <td>9307</td>\n",
       "      <td>3.85</td>\n",
       "      <td>4.43</td>\n",
       "      <td>118</td>\n",
       "      <td>2616</td>\n",
       "      <td>3040</td>\n",
       "    </tr>\n",
       "    <tr>\n",
       "      <th>...</th>\n",
       "      <td>...</td>\n",
       "      <td>...</td>\n",
       "      <td>...</td>\n",
       "      <td>...</td>\n",
       "      <td>...</td>\n",
       "      <td>...</td>\n",
       "      <td>...</td>\n",
       "      <td>...</td>\n",
       "      <td>...</td>\n",
       "      <td>...</td>\n",
       "      <td>...</td>\n",
       "      <td>...</td>\n",
       "      <td>...</td>\n",
       "      <td>...</td>\n",
       "      <td>...</td>\n",
       "      <td>...</td>\n",
       "    </tr>\n",
       "    <tr>\n",
       "      <th>72</th>\n",
       "      <td>73</td>\n",
       "      <td>Opava</td>\n",
       "      <td>north Moravia</td>\n",
       "      <td>182027</td>\n",
       "      <td>17</td>\n",
       "      <td>49</td>\n",
       "      <td>12</td>\n",
       "      <td>2</td>\n",
       "      <td>7</td>\n",
       "      <td>56.4</td>\n",
       "      <td>8746</td>\n",
       "      <td>3.33</td>\n",
       "      <td>3.74</td>\n",
       "      <td>90</td>\n",
       "      <td>4355</td>\n",
       "      <td>4433</td>\n",
       "    </tr>\n",
       "    <tr>\n",
       "      <th>73</th>\n",
       "      <td>74</td>\n",
       "      <td>Ostrava - mesto</td>\n",
       "      <td>north Moravia</td>\n",
       "      <td>323870</td>\n",
       "      <td>0</td>\n",
       "      <td>0</td>\n",
       "      <td>0</td>\n",
       "      <td>1</td>\n",
       "      <td>1</td>\n",
       "      <td>100.0</td>\n",
       "      <td>10673</td>\n",
       "      <td>4.75</td>\n",
       "      <td>5.44</td>\n",
       "      <td>100</td>\n",
       "      <td>18782</td>\n",
       "      <td>18347</td>\n",
       "    </tr>\n",
       "    <tr>\n",
       "      <th>74</th>\n",
       "      <td>75</td>\n",
       "      <td>Prerov</td>\n",
       "      <td>north Moravia</td>\n",
       "      <td>138032</td>\n",
       "      <td>67</td>\n",
       "      <td>30</td>\n",
       "      <td>4</td>\n",
       "      <td>2</td>\n",
       "      <td>5</td>\n",
       "      <td>64.6</td>\n",
       "      <td>8819</td>\n",
       "      <td>5.38</td>\n",
       "      <td>5.66</td>\n",
       "      <td>99</td>\n",
       "      <td>4063</td>\n",
       "      <td>4505</td>\n",
       "    </tr>\n",
       "    <tr>\n",
       "      <th>75</th>\n",
       "      <td>76</td>\n",
       "      <td>Sumperk</td>\n",
       "      <td>north Moravia</td>\n",
       "      <td>127369</td>\n",
       "      <td>31</td>\n",
       "      <td>32</td>\n",
       "      <td>13</td>\n",
       "      <td>2</td>\n",
       "      <td>7</td>\n",
       "      <td>51.2</td>\n",
       "      <td>8369</td>\n",
       "      <td>4.73</td>\n",
       "      <td>5.88</td>\n",
       "      <td>107</td>\n",
       "      <td>3736</td>\n",
       "      <td>2807</td>\n",
       "    </tr>\n",
       "    <tr>\n",
       "      <th>76</th>\n",
       "      <td>77</td>\n",
       "      <td>Vsetin</td>\n",
       "      <td>north Moravia</td>\n",
       "      <td>148545</td>\n",
       "      <td>8</td>\n",
       "      <td>35</td>\n",
       "      <td>12</td>\n",
       "      <td>3</td>\n",
       "      <td>4</td>\n",
       "      <td>53.5</td>\n",
       "      <td>8909</td>\n",
       "      <td>4.01</td>\n",
       "      <td>5.56</td>\n",
       "      <td>113</td>\n",
       "      <td>3460</td>\n",
       "      <td>3590</td>\n",
       "    </tr>\n",
       "  </tbody>\n",
       "</table>\n",
       "<p>77 rows × 16 columns</p>\n",
       "</div>"
      ],
      "text/plain": [
       "    A1               A2               A3       A4  A5  A6  A7  A8  A9    A10  \\\n",
       "0    1      Hl.m. Praha           Prague  1204953   0   0   0   1   1  100.0   \n",
       "1    2          Benesov  central Bohemia    88884  80  26   6   2   5   46.7   \n",
       "2    3           Beroun  central Bohemia    75232  55  26   4   1   5   41.7   \n",
       "3    4           Kladno  central Bohemia   149893  63  29   6   2   6   67.4   \n",
       "4    5            Kolin  central Bohemia    95616  65  30   4   1   6   51.4   \n",
       "..  ..              ...              ...      ...  ..  ..  ..  ..  ..    ...   \n",
       "72  73            Opava    north Moravia   182027  17  49  12   2   7   56.4   \n",
       "73  74  Ostrava - mesto    north Moravia   323870   0   0   0   1   1  100.0   \n",
       "74  75           Prerov    north Moravia   138032  67  30   4   2   5   64.6   \n",
       "75  76          Sumperk    north Moravia   127369  31  32  13   2   7   51.2   \n",
       "76  77           Vsetin    north Moravia   148545   8  35  12   3   4   53.5   \n",
       "\n",
       "      A11   A12   A13  A14    A15    A16  \n",
       "0   12541  0.29  0.43  167  85677  99107  \n",
       "1    8507  1.67  1.85  132   2159   2674  \n",
       "2    8980  1.95  2.21  111   2824   2813  \n",
       "3    9753  4.64  5.05  109   5244   5892  \n",
       "4    9307  3.85  4.43  118   2616   3040  \n",
       "..    ...   ...   ...  ...    ...    ...  \n",
       "72   8746  3.33  3.74   90   4355   4433  \n",
       "73  10673  4.75  5.44  100  18782  18347  \n",
       "74   8819  5.38  5.66   99   4063   4505  \n",
       "75   8369  4.73  5.88  107   3736   2807  \n",
       "76   8909  4.01  5.56  113   3460   3590  \n",
       "\n",
       "[77 rows x 16 columns]"
      ]
     },
     "execution_count": 10,
     "metadata": {},
     "output_type": "execute_result"
    }
   ],
   "source": [
    "# Activity 1\n",
    "#  pd.read_sql_table will accept a table name and will retrieve the whole table. \n",
    "#  You can also read a whole table with pd.read_sql. Try it on the table 'district'.\n",
    "\n",
    "district = pd.read_sql_table('district', con= connection_string)\n",
    "district"
   ]
  },
  {
   "cell_type": "code",
   "execution_count": 11,
   "metadata": {
    "id": "rn9906pcmyrf"
   },
   "outputs": [
    {
     "data": {
      "text/html": [
       "<div>\n",
       "<style scoped>\n",
       "    .dataframe tbody tr th:only-of-type {\n",
       "        vertical-align: middle;\n",
       "    }\n",
       "\n",
       "    .dataframe tbody tr th {\n",
       "        vertical-align: top;\n",
       "    }\n",
       "\n",
       "    .dataframe thead th {\n",
       "        text-align: right;\n",
       "    }\n",
       "</style>\n",
       "<table border=\"1\" class=\"dataframe\">\n",
       "  <thead>\n",
       "    <tr style=\"text-align: right;\">\n",
       "      <th></th>\n",
       "      <th>A1</th>\n",
       "      <th>A2</th>\n",
       "      <th>A3</th>\n",
       "      <th>A4</th>\n",
       "      <th>A5</th>\n",
       "      <th>A6</th>\n",
       "      <th>A7</th>\n",
       "      <th>A8</th>\n",
       "      <th>A9</th>\n",
       "      <th>A10</th>\n",
       "      <th>A11</th>\n",
       "      <th>A12</th>\n",
       "      <th>A13</th>\n",
       "      <th>A14</th>\n",
       "      <th>A15</th>\n",
       "      <th>A16</th>\n",
       "    </tr>\n",
       "  </thead>\n",
       "  <tbody>\n",
       "    <tr>\n",
       "      <th>0</th>\n",
       "      <td>1</td>\n",
       "      <td>Hl.m. Praha</td>\n",
       "      <td>Prague</td>\n",
       "      <td>1204953</td>\n",
       "      <td>0</td>\n",
       "      <td>0</td>\n",
       "      <td>0</td>\n",
       "      <td>1</td>\n",
       "      <td>1</td>\n",
       "      <td>100.0</td>\n",
       "      <td>12541</td>\n",
       "      <td>0.29</td>\n",
       "      <td>0.43</td>\n",
       "      <td>167</td>\n",
       "      <td>85677</td>\n",
       "      <td>99107</td>\n",
       "    </tr>\n",
       "    <tr>\n",
       "      <th>1</th>\n",
       "      <td>2</td>\n",
       "      <td>Benesov</td>\n",
       "      <td>central Bohemia</td>\n",
       "      <td>88884</td>\n",
       "      <td>80</td>\n",
       "      <td>26</td>\n",
       "      <td>6</td>\n",
       "      <td>2</td>\n",
       "      <td>5</td>\n",
       "      <td>46.7</td>\n",
       "      <td>8507</td>\n",
       "      <td>1.67</td>\n",
       "      <td>1.85</td>\n",
       "      <td>132</td>\n",
       "      <td>2159</td>\n",
       "      <td>2674</td>\n",
       "    </tr>\n",
       "    <tr>\n",
       "      <th>2</th>\n",
       "      <td>3</td>\n",
       "      <td>Beroun</td>\n",
       "      <td>central Bohemia</td>\n",
       "      <td>75232</td>\n",
       "      <td>55</td>\n",
       "      <td>26</td>\n",
       "      <td>4</td>\n",
       "      <td>1</td>\n",
       "      <td>5</td>\n",
       "      <td>41.7</td>\n",
       "      <td>8980</td>\n",
       "      <td>1.95</td>\n",
       "      <td>2.21</td>\n",
       "      <td>111</td>\n",
       "      <td>2824</td>\n",
       "      <td>2813</td>\n",
       "    </tr>\n",
       "    <tr>\n",
       "      <th>3</th>\n",
       "      <td>4</td>\n",
       "      <td>Kladno</td>\n",
       "      <td>central Bohemia</td>\n",
       "      <td>149893</td>\n",
       "      <td>63</td>\n",
       "      <td>29</td>\n",
       "      <td>6</td>\n",
       "      <td>2</td>\n",
       "      <td>6</td>\n",
       "      <td>67.4</td>\n",
       "      <td>9753</td>\n",
       "      <td>4.64</td>\n",
       "      <td>5.05</td>\n",
       "      <td>109</td>\n",
       "      <td>5244</td>\n",
       "      <td>5892</td>\n",
       "    </tr>\n",
       "    <tr>\n",
       "      <th>4</th>\n",
       "      <td>5</td>\n",
       "      <td>Kolin</td>\n",
       "      <td>central Bohemia</td>\n",
       "      <td>95616</td>\n",
       "      <td>65</td>\n",
       "      <td>30</td>\n",
       "      <td>4</td>\n",
       "      <td>1</td>\n",
       "      <td>6</td>\n",
       "      <td>51.4</td>\n",
       "      <td>9307</td>\n",
       "      <td>3.85</td>\n",
       "      <td>4.43</td>\n",
       "      <td>118</td>\n",
       "      <td>2616</td>\n",
       "      <td>3040</td>\n",
       "    </tr>\n",
       "    <tr>\n",
       "      <th>...</th>\n",
       "      <td>...</td>\n",
       "      <td>...</td>\n",
       "      <td>...</td>\n",
       "      <td>...</td>\n",
       "      <td>...</td>\n",
       "      <td>...</td>\n",
       "      <td>...</td>\n",
       "      <td>...</td>\n",
       "      <td>...</td>\n",
       "      <td>...</td>\n",
       "      <td>...</td>\n",
       "      <td>...</td>\n",
       "      <td>...</td>\n",
       "      <td>...</td>\n",
       "      <td>...</td>\n",
       "      <td>...</td>\n",
       "    </tr>\n",
       "    <tr>\n",
       "      <th>72</th>\n",
       "      <td>73</td>\n",
       "      <td>Opava</td>\n",
       "      <td>north Moravia</td>\n",
       "      <td>182027</td>\n",
       "      <td>17</td>\n",
       "      <td>49</td>\n",
       "      <td>12</td>\n",
       "      <td>2</td>\n",
       "      <td>7</td>\n",
       "      <td>56.4</td>\n",
       "      <td>8746</td>\n",
       "      <td>3.33</td>\n",
       "      <td>3.74</td>\n",
       "      <td>90</td>\n",
       "      <td>4355</td>\n",
       "      <td>4433</td>\n",
       "    </tr>\n",
       "    <tr>\n",
       "      <th>73</th>\n",
       "      <td>74</td>\n",
       "      <td>Ostrava - mesto</td>\n",
       "      <td>north Moravia</td>\n",
       "      <td>323870</td>\n",
       "      <td>0</td>\n",
       "      <td>0</td>\n",
       "      <td>0</td>\n",
       "      <td>1</td>\n",
       "      <td>1</td>\n",
       "      <td>100.0</td>\n",
       "      <td>10673</td>\n",
       "      <td>4.75</td>\n",
       "      <td>5.44</td>\n",
       "      <td>100</td>\n",
       "      <td>18782</td>\n",
       "      <td>18347</td>\n",
       "    </tr>\n",
       "    <tr>\n",
       "      <th>74</th>\n",
       "      <td>75</td>\n",
       "      <td>Prerov</td>\n",
       "      <td>north Moravia</td>\n",
       "      <td>138032</td>\n",
       "      <td>67</td>\n",
       "      <td>30</td>\n",
       "      <td>4</td>\n",
       "      <td>2</td>\n",
       "      <td>5</td>\n",
       "      <td>64.6</td>\n",
       "      <td>8819</td>\n",
       "      <td>5.38</td>\n",
       "      <td>5.66</td>\n",
       "      <td>99</td>\n",
       "      <td>4063</td>\n",
       "      <td>4505</td>\n",
       "    </tr>\n",
       "    <tr>\n",
       "      <th>75</th>\n",
       "      <td>76</td>\n",
       "      <td>Sumperk</td>\n",
       "      <td>north Moravia</td>\n",
       "      <td>127369</td>\n",
       "      <td>31</td>\n",
       "      <td>32</td>\n",
       "      <td>13</td>\n",
       "      <td>2</td>\n",
       "      <td>7</td>\n",
       "      <td>51.2</td>\n",
       "      <td>8369</td>\n",
       "      <td>4.73</td>\n",
       "      <td>5.88</td>\n",
       "      <td>107</td>\n",
       "      <td>3736</td>\n",
       "      <td>2807</td>\n",
       "    </tr>\n",
       "    <tr>\n",
       "      <th>76</th>\n",
       "      <td>77</td>\n",
       "      <td>Vsetin</td>\n",
       "      <td>north Moravia</td>\n",
       "      <td>148545</td>\n",
       "      <td>8</td>\n",
       "      <td>35</td>\n",
       "      <td>12</td>\n",
       "      <td>3</td>\n",
       "      <td>4</td>\n",
       "      <td>53.5</td>\n",
       "      <td>8909</td>\n",
       "      <td>4.01</td>\n",
       "      <td>5.56</td>\n",
       "      <td>113</td>\n",
       "      <td>3460</td>\n",
       "      <td>3590</td>\n",
       "    </tr>\n",
       "  </tbody>\n",
       "</table>\n",
       "<p>77 rows × 16 columns</p>\n",
       "</div>"
      ],
      "text/plain": [
       "    A1               A2               A3       A4  A5  A6  A7  A8  A9    A10  \\\n",
       "0    1      Hl.m. Praha           Prague  1204953   0   0   0   1   1  100.0   \n",
       "1    2          Benesov  central Bohemia    88884  80  26   6   2   5   46.7   \n",
       "2    3           Beroun  central Bohemia    75232  55  26   4   1   5   41.7   \n",
       "3    4           Kladno  central Bohemia   149893  63  29   6   2   6   67.4   \n",
       "4    5            Kolin  central Bohemia    95616  65  30   4   1   6   51.4   \n",
       "..  ..              ...              ...      ...  ..  ..  ..  ..  ..    ...   \n",
       "72  73            Opava    north Moravia   182027  17  49  12   2   7   56.4   \n",
       "73  74  Ostrava - mesto    north Moravia   323870   0   0   0   1   1  100.0   \n",
       "74  75           Prerov    north Moravia   138032  67  30   4   2   5   64.6   \n",
       "75  76          Sumperk    north Moravia   127369  31  32  13   2   7   51.2   \n",
       "76  77           Vsetin    north Moravia   148545   8  35  12   3   4   53.5   \n",
       "\n",
       "      A11   A12   A13  A14    A15    A16  \n",
       "0   12541  0.29  0.43  167  85677  99107  \n",
       "1    8507  1.67  1.85  132   2159   2674  \n",
       "2    8980  1.95  2.21  111   2824   2813  \n",
       "3    9753  4.64  5.05  109   5244   5892  \n",
       "4    9307  3.85  4.43  118   2616   3040  \n",
       "..    ...   ...   ...  ...    ...    ...  \n",
       "72   8746  3.33  3.74   90   4355   4433  \n",
       "73  10673  4.75  5.44  100  18782  18347  \n",
       "74   8819  5.38  5.66   99   4063   4505  \n",
       "75   8369  4.73  5.88  107   3736   2807  \n",
       "76   8909  4.01  5.56  113   3460   3590  \n",
       "\n",
       "[77 rows x 16 columns]"
      ]
     },
     "execution_count": 11,
     "metadata": {},
     "output_type": "execute_result"
    }
   ],
   "source": [
    "district2 = pd.read_sql('district', con= connection_string)\n",
    "district2\n",
    "\n"
   ]
  },
  {
   "cell_type": "code",
   "execution_count": 12,
   "metadata": {
    "id": "d8F8oOS9myrf"
   },
   "outputs": [],
   "source": [
    "# End Activity 1"
   ]
  },
  {
   "cell_type": "code",
   "execution_count": 13,
   "metadata": {
    "id": "_Hpcxl_7myrf"
   },
   "outputs": [
    {
     "data": {
      "text/plain": [
       "None    711938\n",
       "C        72288\n",
       "A        64599\n",
       "B         9765\n",
       "D         9429\n",
       "Name: status, dtype: int64"
      ]
     },
     "execution_count": 13,
     "metadata": {},
     "output_type": "execute_result"
    }
   ],
   "source": [
    "data['status'].value_counts(dropna=False)"
   ]
  },
  {
   "cell_type": "code",
   "execution_count": null,
   "metadata": {
    "id": "1TDBRctWmyrg"
   },
   "outputs": [],
   "source": [
    "data.shape"
   ]
  },
  {
   "cell_type": "code",
   "execution_count": null,
   "metadata": {
    "id": "KkC4ie7Zmyrg"
   },
   "outputs": [],
   "source": [
    "data.dtypes"
   ]
  },
  {
   "cell_type": "code",
   "execution_count": 15,
   "metadata": {
    "id": "WYGheK8wmyrg"
   },
   "outputs": [
    {
     "data": {
      "text/plain": [
       "type         0\n",
       "operation    0\n",
       "t_amount     0\n",
       "balance      0\n",
       "k_symbol     0\n",
       "l_amount     0\n",
       "duration     0\n",
       "payments     0\n",
       "status       0\n",
       "dtype: int64"
      ]
     },
     "execution_count": 15,
     "metadata": {},
     "output_type": "execute_result"
    }
   ],
   "source": [
    "data.isna().sum()"
   ]
  },
  {
   "cell_type": "code",
   "execution_count": 14,
   "metadata": {
    "id": "PlKRZXiJmyrh"
   },
   "outputs": [],
   "source": [
    "data = data[data['duration'].isna() == False]\n",
    "# or\n",
    "#data = data[~data['duration'].isna()"
   ]
  },
  {
   "cell_type": "code",
   "execution_count": 16,
   "metadata": {
    "id": "9Qk7Bce5myrh"
   },
   "outputs": [
    {
     "data": {
      "text/html": [
       "<div>\n",
       "<style scoped>\n",
       "    .dataframe tbody tr th:only-of-type {\n",
       "        vertical-align: middle;\n",
       "    }\n",
       "\n",
       "    .dataframe tbody tr th {\n",
       "        vertical-align: top;\n",
       "    }\n",
       "\n",
       "    .dataframe thead th {\n",
       "        text-align: right;\n",
       "    }\n",
       "</style>\n",
       "<table border=\"1\" class=\"dataframe\">\n",
       "  <thead>\n",
       "    <tr style=\"text-align: right;\">\n",
       "      <th></th>\n",
       "      <th>t_amount</th>\n",
       "      <th>balance</th>\n",
       "      <th>l_amount</th>\n",
       "      <th>duration</th>\n",
       "      <th>payments</th>\n",
       "    </tr>\n",
       "  </thead>\n",
       "  <tbody>\n",
       "    <tr>\n",
       "      <th>count</th>\n",
       "      <td>156081.000000</td>\n",
       "      <td>156081.000000</td>\n",
       "      <td>156081.000000</td>\n",
       "      <td>156081.000000</td>\n",
       "      <td>156081.000000</td>\n",
       "    </tr>\n",
       "    <tr>\n",
       "      <th>mean</th>\n",
       "      <td>7795.357503</td>\n",
       "      <td>45353.630156</td>\n",
       "      <td>146822.230995</td>\n",
       "      <td>35.598209</td>\n",
       "      <td>4189.309205</td>\n",
       "    </tr>\n",
       "    <tr>\n",
       "      <th>std</th>\n",
       "      <td>11707.393031</td>\n",
       "      <td>25028.806295</td>\n",
       "      <td>109974.568837</td>\n",
       "      <td>17.189519</td>\n",
       "      <td>2198.565442</td>\n",
       "    </tr>\n",
       "    <tr>\n",
       "      <th>min</th>\n",
       "      <td>0.000000</td>\n",
       "      <td>-19310.000000</td>\n",
       "      <td>4980.000000</td>\n",
       "      <td>12.000000</td>\n",
       "      <td>304.000000</td>\n",
       "    </tr>\n",
       "    <tr>\n",
       "      <th>25%</th>\n",
       "      <td>144.100000</td>\n",
       "      <td>27291.700000</td>\n",
       "      <td>65184.000000</td>\n",
       "      <td>24.000000</td>\n",
       "      <td>2482.000000</td>\n",
       "    </tr>\n",
       "    <tr>\n",
       "      <th>50%</th>\n",
       "      <td>2800.000000</td>\n",
       "      <td>40649.500000</td>\n",
       "      <td>111384.000000</td>\n",
       "      <td>36.000000</td>\n",
       "      <td>3900.000000</td>\n",
       "    </tr>\n",
       "    <tr>\n",
       "      <th>75%</th>\n",
       "      <td>9902.000000</td>\n",
       "      <td>59162.000000</td>\n",
       "      <td>203940.000000</td>\n",
       "      <td>48.000000</td>\n",
       "      <td>5900.000000</td>\n",
       "    </tr>\n",
       "    <tr>\n",
       "      <th>max</th>\n",
       "      <td>87300.000000</td>\n",
       "      <td>209637.000000</td>\n",
       "      <td>590820.000000</td>\n",
       "      <td>60.000000</td>\n",
       "      <td>9910.000000</td>\n",
       "    </tr>\n",
       "  </tbody>\n",
       "</table>\n",
       "</div>"
      ],
      "text/plain": [
       "            t_amount        balance       l_amount       duration  \\\n",
       "count  156081.000000  156081.000000  156081.000000  156081.000000   \n",
       "mean     7795.357503   45353.630156  146822.230995      35.598209   \n",
       "std     11707.393031   25028.806295  109974.568837      17.189519   \n",
       "min         0.000000  -19310.000000    4980.000000      12.000000   \n",
       "25%       144.100000   27291.700000   65184.000000      24.000000   \n",
       "50%      2800.000000   40649.500000  111384.000000      36.000000   \n",
       "75%      9902.000000   59162.000000  203940.000000      48.000000   \n",
       "max     87300.000000  209637.000000  590820.000000      60.000000   \n",
       "\n",
       "            payments  \n",
       "count  156081.000000  \n",
       "mean     4189.309205  \n",
       "std      2198.565442  \n",
       "min       304.000000  \n",
       "25%      2482.000000  \n",
       "50%      3900.000000  \n",
       "75%      5900.000000  \n",
       "max      9910.000000  "
      ]
     },
     "execution_count": 16,
     "metadata": {},
     "output_type": "execute_result"
    }
   ],
   "source": [
    "data.describe()\n",
    "\n"
   ]
  },
  {
   "cell_type": "code",
   "execution_count": 17,
   "metadata": {
    "id": "lK-pzuKHmyrh"
   },
   "outputs": [],
   "source": [
    "data['duration'] = data['duration'].astype('object') # This will be treated as categorical\n"
   ]
  },
  {
   "cell_type": "code",
   "execution_count": 18,
   "metadata": {
    "id": "wcgwWpu-_woy"
   },
   "outputs": [
    {
     "data": {
      "text/plain": [
       "24.0    34141\n",
       "12.0    32217\n",
       "60.0    32042\n",
       "48.0    29265\n",
       "36.0    28416\n",
       "Name: duration, dtype: int64"
      ]
     },
     "execution_count": 18,
     "metadata": {},
     "output_type": "execute_result"
    }
   ],
   "source": [
    "data['duration'].value_counts()"
   ]
  },
  {
   "cell_type": "code",
   "execution_count": 20,
   "metadata": {
    "id": "e4pPtmt0myrh"
   },
   "outputs": [
    {
     "data": {
      "text/html": [
       "<div>\n",
       "<style scoped>\n",
       "    .dataframe tbody tr th:only-of-type {\n",
       "        vertical-align: middle;\n",
       "    }\n",
       "\n",
       "    .dataframe tbody tr th {\n",
       "        vertical-align: top;\n",
       "    }\n",
       "\n",
       "    .dataframe thead th {\n",
       "        text-align: right;\n",
       "    }\n",
       "</style>\n",
       "<table border=\"1\" class=\"dataframe\">\n",
       "  <thead>\n",
       "    <tr style=\"text-align: right;\">\n",
       "      <th></th>\n",
       "      <th>t_amount</th>\n",
       "      <th>balance</th>\n",
       "      <th>l_amount</th>\n",
       "      <th>payments</th>\n",
       "    </tr>\n",
       "  </thead>\n",
       "  <tbody>\n",
       "    <tr>\n",
       "      <th>count</th>\n",
       "      <td>156081.000000</td>\n",
       "      <td>156081.000000</td>\n",
       "      <td>156081.000000</td>\n",
       "      <td>156081.000000</td>\n",
       "    </tr>\n",
       "    <tr>\n",
       "      <th>mean</th>\n",
       "      <td>7795.357503</td>\n",
       "      <td>45353.630156</td>\n",
       "      <td>146822.230995</td>\n",
       "      <td>4189.309205</td>\n",
       "    </tr>\n",
       "    <tr>\n",
       "      <th>std</th>\n",
       "      <td>11707.393031</td>\n",
       "      <td>25028.806295</td>\n",
       "      <td>109974.568837</td>\n",
       "      <td>2198.565442</td>\n",
       "    </tr>\n",
       "    <tr>\n",
       "      <th>min</th>\n",
       "      <td>0.000000</td>\n",
       "      <td>-19310.000000</td>\n",
       "      <td>4980.000000</td>\n",
       "      <td>304.000000</td>\n",
       "    </tr>\n",
       "    <tr>\n",
       "      <th>25%</th>\n",
       "      <td>144.100000</td>\n",
       "      <td>27291.700000</td>\n",
       "      <td>65184.000000</td>\n",
       "      <td>2482.000000</td>\n",
       "    </tr>\n",
       "    <tr>\n",
       "      <th>50%</th>\n",
       "      <td>2800.000000</td>\n",
       "      <td>40649.500000</td>\n",
       "      <td>111384.000000</td>\n",
       "      <td>3900.000000</td>\n",
       "    </tr>\n",
       "    <tr>\n",
       "      <th>75%</th>\n",
       "      <td>9902.000000</td>\n",
       "      <td>59162.000000</td>\n",
       "      <td>203940.000000</td>\n",
       "      <td>5900.000000</td>\n",
       "    </tr>\n",
       "    <tr>\n",
       "      <th>max</th>\n",
       "      <td>87300.000000</td>\n",
       "      <td>209637.000000</td>\n",
       "      <td>590820.000000</td>\n",
       "      <td>9910.000000</td>\n",
       "    </tr>\n",
       "  </tbody>\n",
       "</table>\n",
       "</div>"
      ],
      "text/plain": [
       "            t_amount        balance       l_amount       payments\n",
       "count  156081.000000  156081.000000  156081.000000  156081.000000\n",
       "mean     7795.357503   45353.630156  146822.230995    4189.309205\n",
       "std     11707.393031   25028.806295  109974.568837    2198.565442\n",
       "min         0.000000  -19310.000000    4980.000000     304.000000\n",
       "25%       144.100000   27291.700000   65184.000000    2482.000000\n",
       "50%      2800.000000   40649.500000  111384.000000    3900.000000\n",
       "75%      9902.000000   59162.000000  203940.000000    5900.000000\n",
       "max     87300.000000  209637.000000  590820.000000    9910.000000"
      ]
     },
     "execution_count": 20,
     "metadata": {},
     "output_type": "execute_result"
    }
   ],
   "source": [
    "data.describe()"
   ]
  },
  {
   "cell_type": "code",
   "execution_count": null,
   "metadata": {
    "id": "HWG9wVnSmyri"
   },
   "outputs": [],
   "source": [
    "data.isna().sum()"
   ]
  },
  {
   "cell_type": "code",
   "execution_count": null,
   "metadata": {
    "id": "GW0xT2k-myri"
   },
   "outputs": [],
   "source": [
    "data['operation'].value_counts()\n"
   ]
  },
  {
   "cell_type": "code",
   "execution_count": 21,
   "metadata": {
    "id": "PzTEarU1myri"
   },
   "outputs": [],
   "source": [
    "def cleanOperation(x):\n",
    "    x = x.lower()\n",
    "    if 'vyber' in x:\n",
    "        return \"vyber\"\n",
    "    elif 'prevod' in x:\n",
    "        return \"prevod\"\n",
    "    elif 'vklad' in x:\n",
    "        return 'vklad'\n",
    "    else:\n",
    "        return 'unknown'\n",
    "\n",
    "data['operation'] = list(map(cleanOperation, data['operation']))"
   ]
  },
  {
   "cell_type": "code",
   "execution_count": 22,
   "metadata": {
    "id": "FFrUd8Qomyri"
   },
   "outputs": [
    {
     "data": {
      "text/plain": [
       "vyber      70979\n",
       "unknown    31337\n",
       "prevod     31132\n",
       "vklad      22633\n",
       "Name: operation, dtype: int64"
      ]
     },
     "execution_count": 22,
     "metadata": {},
     "output_type": "execute_result"
    }
   ],
   "source": [
    "data['operation'].value_counts()"
   ]
  },
  {
   "cell_type": "code",
   "execution_count": 23,
   "metadata": {
    "id": "stVSuVQRmyrj"
   },
   "outputs": [
    {
     "data": {
      "text/plain": [
       "               73946\n",
       "UROK           31337\n",
       "SLUZBY         23592\n",
       "SIPO           10482\n",
       "UVER            7744\n",
       "                5979\n",
       "POJISTNE        2412\n",
       "SANKC. UROK      589\n",
       "Name: k_symbol, dtype: int64"
      ]
     },
     "execution_count": 23,
     "metadata": {},
     "output_type": "execute_result"
    }
   ],
   "source": [
    "data['k_symbol'].value_counts()\n"
   ]
  },
  {
   "cell_type": "code",
   "execution_count": null,
   "metadata": {
    "id": "820iye85myrj"
   },
   "outputs": [],
   "source": [
    "data['k_symbol'].value_counts().index\n"
   ]
  },
  {
   "cell_type": "code",
   "execution_count": 24,
   "metadata": {
    "id": "MEqES2o3myrj"
   },
   "outputs": [],
   "source": [
    "def cleankSymbol(x):\n",
    "    if x in ['', ' ']:\n",
    "        return 'unknown'\n",
    "    else:\n",
    "        return x\n",
    "\n",
    "data['k_symbol'] = list(map(cleankSymbol, data['k_symbol']))\n"
   ]
  },
  {
   "cell_type": "code",
   "execution_count": null,
   "metadata": {
    "id": "e_6MaquMmyrj"
   },
   "outputs": [],
   "source": [
    "data['k_symbol'].value_counts()"
   ]
  },
  {
   "cell_type": "code",
   "execution_count": null,
   "metadata": {},
   "outputs": [],
   "source": []
  },
  {
   "cell_type": "code",
   "execution_count": 25,
   "metadata": {
    "id": "AgQ-rOkJmyrj"
   },
   "outputs": [
    {
     "ename": "NameError",
     "evalue": "name 'np' is not defined",
     "output_type": "error",
     "traceback": [
      "\u001b[0;31m---------------------------------------------------------------------------\u001b[0m",
      "\u001b[0;31mNameError\u001b[0m                                 Traceback (most recent call last)",
      "Input \u001b[0;32mIn [25]\u001b[0m, in \u001b[0;36m<cell line: 1>\u001b[0;34m()\u001b[0m\n\u001b[0;32m----> 1\u001b[0m data \u001b[38;5;241m=\u001b[39m \u001b[43mnp\u001b[49m\u001b[38;5;241m.\u001b[39mwhere(data[\u001b[38;5;124m'\u001b[39m\u001b[38;5;124mk_symbol\u001b[39m\u001b[38;5;124m'\u001b[39m]\u001b[38;5;241m.\u001b[39misin([\u001b[38;5;124m'\u001b[39m\u001b[38;5;124mPOJISTNE\u001b[39m\u001b[38;5;124m'\u001b[39m, \u001b[38;5;124m'\u001b[39m\u001b[38;5;124mSANKC. UROK\u001b[39m\u001b[38;5;124m'\u001b[39m, \u001b[38;5;124m'\u001b[39m\u001b[38;5;124mUVER\u001b[39m\u001b[38;5;124m'\u001b[39m]), \u001b[38;5;124m'\u001b[39m\u001b[38;5;124mother\u001b[39m\u001b[38;5;124m'\u001b[39m, data[\u001b[38;5;124m'\u001b[39m\u001b[38;5;124mk_syymbol\u001b[39m\u001b[38;5;124m'\u001b[39m])\n",
      "\u001b[0;31mNameError\u001b[0m: name 'np' is not defined"
     ]
    }
   ],
   "source": [
    "#data = data[~data['k_symbol'].isin(['POJISTNE', 'SANKC. UROK', 'UVER'])] # ~ : NOT"
   ]
  },
  {
   "cell_type": "code",
   "execution_count": null,
   "metadata": {
    "id": "GQiswBRS_wo2"
   },
   "outputs": [],
   "source": [
    "data['k_symbol'].isin(['POJISTNE', 'SANKC. UROK', 'UVER'])"
   ]
  },
  {
   "cell_type": "code",
   "execution_count": null,
   "metadata": {},
   "outputs": [],
   "source": [
    "data = np.where(data['k_symbol'].isin(['POJISTNE', 'SANKC. UROK', 'UVER']), 'other', data['k_symbol'])"
   ]
  },
  {
   "cell_type": "code",
   "execution_count": null,
   "metadata": {
    "id": "yZf7s7GAmyrk"
   },
   "outputs": [],
   "source": [
    "# discuss disadvantages and alternatives to dropping rows"
   ]
  },
  {
   "cell_type": "code",
   "execution_count": null,
   "metadata": {
    "id": "cANrMGI3myrk"
   },
   "outputs": [],
   "source": [
    "data['type'].value_counts()"
   ]
  },
  {
   "cell_type": "code",
   "execution_count": 29,
   "metadata": {
    "id": "V77dAiicmyrk"
   },
   "outputs": [
    {
     "data": {
      "text/html": [
       "<div>\n",
       "<style scoped>\n",
       "    .dataframe tbody tr th:only-of-type {\n",
       "        vertical-align: middle;\n",
       "    }\n",
       "\n",
       "    .dataframe tbody tr th {\n",
       "        vertical-align: top;\n",
       "    }\n",
       "\n",
       "    .dataframe thead th {\n",
       "        text-align: right;\n",
       "    }\n",
       "</style>\n",
       "<table border=\"1\" class=\"dataframe\">\n",
       "  <thead>\n",
       "    <tr style=\"text-align: right;\">\n",
       "      <th>operation</th>\n",
       "      <th>prevod</th>\n",
       "      <th>unknown</th>\n",
       "      <th>vklad</th>\n",
       "      <th>vyber</th>\n",
       "    </tr>\n",
       "    <tr>\n",
       "      <th>type</th>\n",
       "      <th></th>\n",
       "      <th></th>\n",
       "      <th></th>\n",
       "      <th></th>\n",
       "    </tr>\n",
       "  </thead>\n",
       "  <tbody>\n",
       "    <tr>\n",
       "      <th>PRIJEM</th>\n",
       "      <td>5336</td>\n",
       "      <td>31337</td>\n",
       "      <td>22633</td>\n",
       "      <td>0</td>\n",
       "    </tr>\n",
       "    <tr>\n",
       "      <th>VYBER</th>\n",
       "      <td>0</td>\n",
       "      <td>0</td>\n",
       "      <td>0</td>\n",
       "      <td>5347</td>\n",
       "    </tr>\n",
       "    <tr>\n",
       "      <th>VYDAJ</th>\n",
       "      <td>25796</td>\n",
       "      <td>0</td>\n",
       "      <td>0</td>\n",
       "      <td>65632</td>\n",
       "    </tr>\n",
       "  </tbody>\n",
       "</table>\n",
       "</div>"
      ],
      "text/plain": [
       "operation  prevod  unknown  vklad  vyber\n",
       "type                                    \n",
       "PRIJEM       5336    31337  22633      0\n",
       "VYBER           0        0      0   5347\n",
       "VYDAJ       25796        0      0  65632"
      ]
     },
     "execution_count": 29,
     "metadata": {},
     "output_type": "execute_result"
    }
   ],
   "source": [
    "# Activity 2:\n",
    "# Explore values in columns TYPE and OPERATION. \n",
    "# How many different loans of each type and operation are there? \n",
    "# How many loans for each combination? \n",
    "# (You may want to check out pandas.crosstab function.)\n",
    "a = pd.crosstab(data.type, data.operation)\n",
    "a"
   ]
  },
  {
   "cell_type": "code",
   "execution_count": 38,
   "metadata": {
    "id": "c747Nstxmyrk"
   },
   "outputs": [
    {
     "data": {
      "text/html": [
       "<div>\n",
       "<style scoped>\n",
       "    .dataframe tbody tr th:only-of-type {\n",
       "        vertical-align: middle;\n",
       "    }\n",
       "\n",
       "    .dataframe tbody tr th {\n",
       "        vertical-align: top;\n",
       "    }\n",
       "\n",
       "    .dataframe thead th {\n",
       "        text-align: right;\n",
       "    }\n",
       "</style>\n",
       "<table border=\"1\" class=\"dataframe\">\n",
       "  <thead>\n",
       "    <tr style=\"text-align: right;\">\n",
       "      <th></th>\n",
       "      <th></th>\n",
       "      <th>balance</th>\n",
       "      <th>duration</th>\n",
       "      <th>k_symbol</th>\n",
       "      <th>l_amount</th>\n",
       "      <th>payments</th>\n",
       "      <th>status</th>\n",
       "      <th>t_amount</th>\n",
       "    </tr>\n",
       "    <tr>\n",
       "      <th>type</th>\n",
       "      <th>operation</th>\n",
       "      <th></th>\n",
       "      <th></th>\n",
       "      <th></th>\n",
       "      <th></th>\n",
       "      <th></th>\n",
       "      <th></th>\n",
       "      <th></th>\n",
       "    </tr>\n",
       "  </thead>\n",
       "  <tbody>\n",
       "    <tr>\n",
       "      <th rowspan=\"3\" valign=\"top\">PRIJEM</th>\n",
       "      <th>prevod</th>\n",
       "      <td>5336</td>\n",
       "      <td>5336</td>\n",
       "      <td>5336</td>\n",
       "      <td>5336</td>\n",
       "      <td>5336</td>\n",
       "      <td>5336</td>\n",
       "      <td>5336</td>\n",
       "    </tr>\n",
       "    <tr>\n",
       "      <th>unknown</th>\n",
       "      <td>31337</td>\n",
       "      <td>31337</td>\n",
       "      <td>31337</td>\n",
       "      <td>31337</td>\n",
       "      <td>31337</td>\n",
       "      <td>31337</td>\n",
       "      <td>31337</td>\n",
       "    </tr>\n",
       "    <tr>\n",
       "      <th>vklad</th>\n",
       "      <td>22633</td>\n",
       "      <td>22633</td>\n",
       "      <td>22633</td>\n",
       "      <td>22633</td>\n",
       "      <td>22633</td>\n",
       "      <td>22633</td>\n",
       "      <td>22633</td>\n",
       "    </tr>\n",
       "    <tr>\n",
       "      <th>VYBER</th>\n",
       "      <th>vyber</th>\n",
       "      <td>5347</td>\n",
       "      <td>5347</td>\n",
       "      <td>5347</td>\n",
       "      <td>5347</td>\n",
       "      <td>5347</td>\n",
       "      <td>5347</td>\n",
       "      <td>5347</td>\n",
       "    </tr>\n",
       "    <tr>\n",
       "      <th rowspan=\"2\" valign=\"top\">VYDAJ</th>\n",
       "      <th>prevod</th>\n",
       "      <td>25796</td>\n",
       "      <td>25796</td>\n",
       "      <td>25796</td>\n",
       "      <td>25796</td>\n",
       "      <td>25796</td>\n",
       "      <td>25796</td>\n",
       "      <td>25796</td>\n",
       "    </tr>\n",
       "    <tr>\n",
       "      <th>vyber</th>\n",
       "      <td>65632</td>\n",
       "      <td>65632</td>\n",
       "      <td>65632</td>\n",
       "      <td>65632</td>\n",
       "      <td>65632</td>\n",
       "      <td>65632</td>\n",
       "      <td>65632</td>\n",
       "    </tr>\n",
       "  </tbody>\n",
       "</table>\n",
       "</div>"
      ],
      "text/plain": [
       "                  balance  duration  k_symbol  l_amount  payments  status  \\\n",
       "type   operation                                                            \n",
       "PRIJEM prevod        5336      5336      5336      5336      5336    5336   \n",
       "       unknown      31337     31337     31337     31337     31337   31337   \n",
       "       vklad        22633     22633     22633     22633     22633   22633   \n",
       "VYBER  vyber         5347      5347      5347      5347      5347    5347   \n",
       "VYDAJ  prevod       25796     25796     25796     25796     25796   25796   \n",
       "       vyber        65632     65632     65632     65632     65632   65632   \n",
       "\n",
       "                  t_amount  \n",
       "type   operation            \n",
       "PRIJEM prevod         5336  \n",
       "       unknown       31337  \n",
       "       vklad         22633  \n",
       "VYBER  vyber          5347  \n",
       "VYDAJ  prevod        25796  \n",
       "       vyber         65632  "
      ]
     },
     "execution_count": 38,
     "metadata": {},
     "output_type": "execute_result"
    }
   ],
   "source": [
    "table = pd.pivot_table(data=data,index=['type', 'operation'], aggfunc='count')\n",
    "table"
   ]
  },
  {
   "cell_type": "code",
   "execution_count": 39,
   "metadata": {
    "id": "VoUzV98wmyrk"
   },
   "outputs": [
    {
     "data": {
      "text/plain": [
       "<AxesSubplot:xlabel='type', ylabel='count'>"
      ]
     },
     "execution_count": 39,
     "metadata": {},
     "output_type": "execute_result"
    },
    {
     "data": {
      "image/png": "[encoded data removed]",
      "text/plain": [
       "<Figure size 432x288 with 1 Axes>"
      ]
     },
     "metadata": {
      "needs_background": "light"
     },
     "output_type": "display_data"
    }
   ],
   "source": [
    "import seaborn as sns\n",
    "%matplotlib inline\n",
    "sns.countplot(x=data.type)\n"
   ]
  },
  {
   "cell_type": "code",
   "execution_count": 40,
   "metadata": {
    "id": "s59mwC8Gmyrk"
   },
   "outputs": [
    {
     "data": {
      "text/plain": [
       "vyber      70979\n",
       "unknown    31337\n",
       "prevod     31132\n",
       "vklad      22633\n",
       "Name: operation, dtype: int64"
      ]
     },
     "execution_count": 40,
     "metadata": {},
     "output_type": "execute_result"
    }
   ],
   "source": [
    "data.operation.value_counts()\n"
   ]
  },
  {
   "cell_type": "code",
   "execution_count": 41,
   "metadata": {
    "id": "FBBW7lhrmyrl"
   },
   "outputs": [
    {
     "data": {
      "text/plain": [
       "<AxesSubplot:xlabel='operation', ylabel='count'>"
      ]
     },
     "execution_count": 41,
     "metadata": {},
     "output_type": "execute_result"
    },
    {
     "data": {
      "image/png": "[encoded data removed]",
      "text/plain": [
       "<Figure size 432x288 with 1 Axes>"
      ]
     },
     "metadata": {
      "needs_background": "light"
     },
     "output_type": "display_data"
    }
   ],
   "source": [
    "sns.countplot(x=data.operation)\n",
    "\n"
   ]
  },
  {
   "cell_type": "code",
   "execution_count": 42,
   "metadata": {
    "id": "62M1nuY6myrl"
   },
   "outputs": [
    {
     "data": {
      "text/html": [
       "<div>\n",
       "<style scoped>\n",
       "    .dataframe tbody tr th:only-of-type {\n",
       "        vertical-align: middle;\n",
       "    }\n",
       "\n",
       "    .dataframe tbody tr th {\n",
       "        vertical-align: top;\n",
       "    }\n",
       "\n",
       "    .dataframe thead th {\n",
       "        text-align: right;\n",
       "    }\n",
       "</style>\n",
       "<table border=\"1\" class=\"dataframe\">\n",
       "  <thead>\n",
       "    <tr style=\"text-align: right;\">\n",
       "      <th>operation</th>\n",
       "      <th>prevod</th>\n",
       "      <th>unknown</th>\n",
       "      <th>vklad</th>\n",
       "      <th>vyber</th>\n",
       "    </tr>\n",
       "    <tr>\n",
       "      <th>type</th>\n",
       "      <th></th>\n",
       "      <th></th>\n",
       "      <th></th>\n",
       "      <th></th>\n",
       "    </tr>\n",
       "  </thead>\n",
       "  <tbody>\n",
       "    <tr>\n",
       "      <th>PRIJEM</th>\n",
       "      <td>5336</td>\n",
       "      <td>31337</td>\n",
       "      <td>22633</td>\n",
       "      <td>0</td>\n",
       "    </tr>\n",
       "    <tr>\n",
       "      <th>VYBER</th>\n",
       "      <td>0</td>\n",
       "      <td>0</td>\n",
       "      <td>0</td>\n",
       "      <td>5347</td>\n",
       "    </tr>\n",
       "    <tr>\n",
       "      <th>VYDAJ</th>\n",
       "      <td>25796</td>\n",
       "      <td>0</td>\n",
       "      <td>0</td>\n",
       "      <td>65632</td>\n",
       "    </tr>\n",
       "  </tbody>\n",
       "</table>\n",
       "</div>"
      ],
      "text/plain": [
       "operation  prevod  unknown  vklad  vyber\n",
       "type                                    \n",
       "PRIJEM       5336    31337  22633      0\n",
       "VYBER           0        0      0   5347\n",
       "VYDAJ       25796        0      0  65632"
      ]
     },
     "execution_count": 42,
     "metadata": {},
     "output_type": "execute_result"
    }
   ],
   "source": [
    "pd.crosstab(data.type, data.operation)"
   ]
  },
  {
   "cell_type": "code",
   "execution_count": null,
   "metadata": {
    "id": "CMnSwY1Hmyrl"
   },
   "outputs": [],
   "source": [
    "#End Activity 2"
   ]
  },
  {
   "cell_type": "code",
   "execution_count": 44,
   "metadata": {
    "id": "8HlGeRnfmyrl"
   },
   "outputs": [],
   "source": [
    "import matplotlib.pyplot as plt"
   ]
  },
  {
   "cell_type": "code",
   "execution_count": 45,
   "metadata": {
    "id": "4chcGB59myrl"
   },
   "outputs": [
    {
     "data": {
      "image/png": "[encoded data removed]",
      "text/plain": [
       "<Figure size 720x576 with 2 Axes>"
      ]
     },
     "metadata": {
      "needs_background": "light"
     },
     "output_type": "display_data"
    }
   ],
   "source": [
    "# look for multicolinearity (some columns having almost identical correlation to other variables)\n",
    "# why can't we look for correlation with our target variable (status)?\n",
    "corr_matrix=data.corr(method='pearson')  # default\n",
    "fig, ax = plt.subplots(figsize=(10, 8))\n",
    "ax = sns.heatmap(corr_matrix, annot=True)\n",
    "plt.show()"
   ]
  },
  {
   "cell_type": "code",
   "execution_count": 50,
   "metadata": {
    "id": "twruFD1rmyrl"
   },
   "outputs": [
    {
     "name": "stderr",
     "output_type": "stream",
     "text": [
      "/Users/miguel/opt/anaconda3/lib/python3.9/site-packages/seaborn/distributions.py:2619: FutureWarning: `distplot` is a deprecated function and will be removed in a future version. Please adapt your code to use either `displot` (a figure-level function with similar flexibility) or `histplot` (an axes-level function for histograms).\n",
      "  warnings.warn(msg, FutureWarning)\n"
     ]
    },
    {
     "data": {
      "image/png": "[encoded data removed]",
      "text/plain": [
       "<Figure size 432x288 with 1 Axes>"
      ]
     },
     "metadata": {
      "needs_background": "light"
     },
     "output_type": "display_data"
    },
    {
     "name": "stderr",
     "output_type": "stream",
     "text": [
      "/Users/miguel/opt/anaconda3/lib/python3.9/site-packages/seaborn/distributions.py:2619: FutureWarning: `distplot` is a deprecated function and will be removed in a future version. Please adapt your code to use either `displot` (a figure-level function with similar flexibility) or `histplot` (an axes-level function for histograms).\n",
      "  warnings.warn(msg, FutureWarning)\n"
     ]
    },
    {
     "data": {
      "image/png": "[encoded data removed]",
      "text/plain": [
       "<Figure size 432x288 with 1 Axes>"
      ]
     },
     "metadata": {
      "needs_background": "light"
     },
     "output_type": "display_data"
    },
    {
     "name": "stderr",
     "output_type": "stream",
     "text": [
      "/Users/miguel/opt/anaconda3/lib/python3.9/site-packages/seaborn/distributions.py:2619: FutureWarning: `distplot` is a deprecated function and will be removed in a future version. Please adapt your code to use either `displot` (a figure-level function with similar flexibility) or `histplot` (an axes-level function for histograms).\n",
      "  warnings.warn(msg, FutureWarning)\n"
     ]
    },
    {
     "data": {
      "image/png": "[encoded data removed]",
      "text/plain": [
       "<Figure size 432x288 with 1 Axes>"
      ]
     },
     "metadata": {
      "needs_background": "light"
     },
     "output_type": "display_data"
    },
    {
     "name": "stderr",
     "output_type": "stream",
     "text": [
      "/Users/miguel/opt/anaconda3/lib/python3.9/site-packages/seaborn/distributions.py:2619: FutureWarning: `distplot` is a deprecated function and will be removed in a future version. Please adapt your code to use either `displot` (a figure-level function with similar flexibility) or `histplot` (an axes-level function for histograms).\n",
      "  warnings.warn(msg, FutureWarning)\n"
     ]
    },
    {
     "data": {
      "image/png": "[encoded data removed]",
      "text/plain": [
       "<Figure size 432x288 with 1 Axes>"
      ]
     },
     "metadata": {
      "needs_background": "light"
     },
     "output_type": "display_data"
    }
   ],
   "source": [
    "# look at the scale and distribution of values\n",
    "sns.distplot(data['t_amount'])\n",
    "plt.show()\n",
    "\n",
    "sns.distplot(data['l_amount'])\n",
    "plt.show()\n",
    "\n",
    "sns.distplot(data['balance'])\n",
    "plt.show()\n",
    "\n",
    "sns.distplot(data['payments'])\n",
    "plt.show()"
   ]
  },
  {
   "cell_type": "code",
   "execution_count": null,
   "metadata": {
    "id": "9KUOmU4Kmyrm"
   },
   "outputs": [],
   "source": [
    "import numpy as np\n",
    "from sklearn.preprocessing import MinMaxScaler\n",
    "# from sklearn.preprocessing import StandardScaler\n",
    "\n",
    "X_num = data.select_dtypes(include = np.number)\n",
    "X_cat = data.select_dtypes(include = np.object)\n",
    "\n",
    "# Scaling data\n",
    "transformer = MinMaxScaler().fit(X_num)\n",
    "x_normalized = transformer.transform(X_num)\n",
    "x_norm = pd.DataFrame(x_normalized)\n",
    "x_norm.head()"
   ]
  },
  {
   "cell_type": "code",
   "execution_count": null,
   "metadata": {
    "id": "MdsBZN1D_wo6"
   },
   "outputs": [],
   "source": [
    "# Whoa, One step back please. What did I do wrong here?\n",
    "\n",
    "\n",
    "\n",
    "\n",
    "\n",
    "\n",
    "\n",
    "\n",
    "\n",
    "\n",
    "\n",
    "\n",
    "\n",
    "\n",
    "\n"
   ]
  },
  {
   "cell_type": "code",
   "execution_count": null,
   "metadata": {
    "id": "ZKrpQXJI_wo6"
   },
   "outputs": [],
   "source": [
    "# Need to X-y-split AND train-test-split BEFORE I apply transformations, \n",
    "# then train transformation on training set only\n",
    "y = data['status']\n",
    "X = data.drop('status', axis=1)\n",
    "from sklearn.model_selection import train_test_split\n",
    "X_train, X_test, y_train, y_test = train_test_split(X, y, test_size=0.2, random_state=1337)"
   ]
  },
  {
   "cell_type": "code",
   "execution_count": null,
   "metadata": {
    "id": "j83qrxAG_wo6"
   },
   "outputs": [],
   "source": [
    "import numpy as np\n",
    "from sklearn.preprocessing import MinMaxScaler\n",
    "# from sklearn.preprocessing import StandardScaler\n",
    "\n",
    "X_train_num = X_train.select_dtypes(include = np.number)\n",
    "\n",
    "# Scaling data\n",
    "transformer = MinMaxScaler().fit(X_train_num) # need to keep transformer\n",
    "X_train_normalized = transformer.transform(X_train_num)\n",
    "X_train_norm = pd.DataFrame(X_train_normalized)"
   ]
  },
  {
   "cell_type": "code",
   "execution_count": null,
   "metadata": {
    "id": "CL6F5Lxh_wo7"
   },
   "outputs": [],
   "source": [
    "X_train_norm.columns = X_train_num.columns\n",
    "X_train_norm.head()"
   ]
  },
  {
   "cell_type": "code",
   "execution_count": null,
   "metadata": {
    "id": "q3zKkBWymyrm"
   },
   "outputs": [],
   "source": [
    "X_train_categorical = X_train.select_dtypes(include = np.object)\n",
    "X_train_cat = pd.get_dummies(X_train_categorical, \n",
    "                             columns=['type', 'operation', 'k_symbol', 'duration'],\n",
    "                             drop_first=True)\n",
    "X_train_cat.head()"
   ]
  },
  {
   "cell_type": "code",
   "execution_count": null,
   "metadata": {
    "id": "ZAv0_WvJmyrm"
   },
   "outputs": [],
   "source": [
    "# Activity 3\n",
    "# Explore visually the transformed numerical columns. What do you see?\n",
    "# Another typical transformation for numerical columns is to take the logarithm. \n",
    "# Apply the log transform to columns balance and t_ammount and compare the results with the scaled data."
   ]
  },
  {
   "cell_type": "code",
   "execution_count": null,
   "metadata": {
    "id": "xMR9c6-Omyrm"
   },
   "outputs": [],
   "source": []
  },
  {
   "cell_type": "code",
   "execution_count": null,
   "metadata": {
    "id": "mx1BEfS3myrn"
   },
   "outputs": [],
   "source": [
    "\n"
   ]
  },
  {
   "cell_type": "code",
   "execution_count": null,
   "metadata": {
    "id": "s17sSbjumyrn"
   },
   "outputs": [],
   "source": []
  },
  {
   "cell_type": "code",
   "execution_count": null,
   "metadata": {
    "id": "q-HgdiaPmyrn"
   },
   "outputs": [],
   "source": [
    "# End Activity 3"
   ]
  },
  {
   "cell_type": "code",
   "execution_count": null,
   "metadata": {
    "id": "S0htv5PKmyrn"
   },
   "outputs": [],
   "source": [
    "# build X_train and y_train\n",
    "# remember: y = data['status'], y_train selected in train_test_split\n",
    "X_train_transformed = np.concatenate([X_train_norm, X_train_cat], axis=1)"
   ]
  },
  {
   "cell_type": "code",
   "execution_count": null,
   "metadata": {
    "id": "oYVSxoXimyrn"
   },
   "outputs": [],
   "source": []
  },
  {
   "cell_type": "code",
   "execution_count": null,
   "metadata": {
    "id": "1E8DiZc8myro"
   },
   "outputs": [],
   "source": [
    "from sklearn.linear_model import LogisticRegression\n",
    "classification = LogisticRegression(random_state=0, solver='lbfgs',\n",
    "                  multi_class='multinomial').fit(X_train_transformed, y_train)"
   ]
  },
  {
   "cell_type": "code",
   "execution_count": null,
   "metadata": {
    "id": "eyAugyQomyro"
   },
   "outputs": [],
   "source": [
    "classification = LogisticRegression(random_state=0, solver='saga',\n",
    "                  multi_class='multinomial').fit(X_train_transformed, y_train)"
   ]
  },
  {
   "cell_type": "code",
   "execution_count": null,
   "metadata": {
    "id": "4p-ypzaBmyro"
   },
   "outputs": [],
   "source": [
    "# Can we now make predictions on the X_test?\n",
    "# predictions = classification.predict(X_test)\n",
    "# classification.score(X_test, y_test)\n",
    "\n",
    "\n",
    "# NO - need to perform transformations on the X_test as well"
   ]
  },
  {
   "cell_type": "code",
   "execution_count": null,
   "metadata": {
    "id": "f7lYNUxe_wo_"
   },
   "outputs": [],
   "source": [
    "# for numericals\n",
    "X_test_num = X_test.select_dtypes(include = np.number)\n",
    "\n",
    "# Scaling data\n",
    "# we use the transformer that was trained on the training data\n",
    "X_test_normalized = transformer.transform(X_test_num)\n",
    "X_test_norm = pd.DataFrame(X_test_normalized)"
   ]
  },
  {
   "cell_type": "code",
   "execution_count": null,
   "metadata": {
    "id": "JcnnAyXa_wo_"
   },
   "outputs": [],
   "source": [
    "# for categoricals\n",
    "X_test_categorical = X_test.select_dtypes(include = np.object)\n",
    "X_test_cat = pd.get_dummies(X_test_categorical, \n",
    "                            columns=['type', 'operation', 'k_symbol', 'duration'],\n",
    "                            drop_first=True)\n",
    "# verify that dummies columns are in the same order and that the same column was dropped\n",
    "display(list(zip(list(X_train_cat.columns),list(X_test_cat.columns))))\n",
    "# not needed if you treat each dataframe with one_hot_encoder and save the encode (and the column names)\n",
    "\n",
    "X_test_cat.head()"
   ]
  },
  {
   "cell_type": "code",
   "execution_count": null,
   "metadata": {
    "id": "zUMDEmnK_wpA"
   },
   "outputs": [],
   "source": [
    "X_test_transformed = np.concatenate([X_test_norm, X_test_cat], axis=1)"
   ]
  },
  {
   "cell_type": "code",
   "execution_count": null,
   "metadata": {
    "id": "YKsyJKmL_wpA"
   },
   "outputs": [],
   "source": [
    "# Now we can make predictions on the test set:\n",
    "predictions = classification.predict(X_test_transformed)\n",
    "classification.score(X_test_transformed, y_test)"
   ]
  },
  {
   "cell_type": "code",
   "execution_count": null,
   "metadata": {
    "id": "nKXKIjcPmyro"
   },
   "outputs": [],
   "source": [
    "print(y_test.value_counts())\n",
    "# As you would notice here, there is a huge imbalance in the data among the different classes. \n",
    "# We will talk more about imbalance and how to resolve it later (tomorrow)\n"
   ]
  },
  {
   "cell_type": "code",
   "execution_count": null,
   "metadata": {
    "id": "2fuNSGscmyro"
   },
   "outputs": [],
   "source": [
    "pd.Series(predictions).value_counts()\n",
    "# This shows that the disparity in the numbers are amplified by the model"
   ]
  },
  {
   "cell_type": "code",
   "execution_count": null,
   "metadata": {
    "id": "_YhhzlfOmyrp"
   },
   "outputs": [],
   "source": [
    "from sklearn.metrics import confusion_matrix\n",
    "confusion_matrix(y_test, predictions)"
   ]
  },
  {
   "cell_type": "code",
   "execution_count": null,
   "metadata": {
    "id": "JwAsF1akmyrp"
   },
   "outputs": [],
   "source": [
    "# predicted | A | B | C | D |\n",
    "# --------------------------\n",
    "# actual  A | + |  |   |   |\n",
    "# --------------------------\n",
    "#         B |   | + |   |   |\n",
    "# --------------------------\n",
    "#         C |   |   | + |   |\n",
    "# --------------------------\n",
    "#         D |   |   |   | + |"
   ]
  },
  {
   "cell_type": "code",
   "execution_count": null,
   "metadata": {
    "id": "salXbiJgmyrp"
   },
   "outputs": [],
   "source": [
    "# bonus: KNN classifier: look at nearest neighbours and use the majority to determine class\n",
    "from sklearn import neighbors\n",
    "clf = neighbors.KNeighborsClassifier(n_neighbors=5, weights='uniform')\n",
    "clf.fit(X_train_transformed, y_train)\n",
    "predictions_clf = clf.predict(X_test_transformed)\n",
    "clf.score(X_test_transformed, y_test)"
   ]
  },
  {
   "cell_type": "code",
   "execution_count": null,
   "metadata": {
    "id": "g_mftgwJmyrp"
   },
   "outputs": [],
   "source": [
    "confusion_matrix(y_test, predictions_clf)"
   ]
  },
  {
   "cell_type": "code",
   "execution_count": null,
   "metadata": {
    "id": "3W0t-HHGmyrp"
   },
   "outputs": [],
   "source": [
    "pd.Series(y_test).value_counts()"
   ]
  },
  {
   "cell_type": "code",
   "execution_count": null,
   "metadata": {
    "id": "SzHpesNAmyrp"
   },
   "outputs": [],
   "source": [
    "pd.Series(predictions_clf).value_counts()"
   ]
  },
  {
   "cell_type": "code",
   "execution_count": null,
   "metadata": {
    "id": "QZeAzI8fmyrq"
   },
   "outputs": [],
   "source": []
  }
 ],
 "metadata": {
  "colab": {
   "collapsed_sections": [],
   "name": "L. 3.07.ipynb",
   "provenance": []
  },
  "kernelspec": {
   "display_name": "Python 3 (ipykernel)",
   "language": "python",
   "name": "python3"
  },
  "language_info": {
   "codemirror_mode": {
    "name": "ipython",
    "version": 3
   },
   "file_extension": ".py",
   "mimetype": "text/x-python",
   "name": "python",
   "nbconvert_exporter": "python",
   "pygments_lexer": "ipython3",
   "version": "3.9.12"
  },
  "toc": {
   "base_numbering": 1,
   "nav_menu": {},
   "number_sections": true,
   "sideBar": true,
   "skip_h1_title": false,
   "title_cell": "Table of Contents",
   "title_sidebar": "Contents",
   "toc_cell": false,
   "toc_position": {},
   "toc_section_display": true,
   "toc_window_display": false
  }
 },
 "nbformat": 4,
 "nbformat_minor": 1
}
